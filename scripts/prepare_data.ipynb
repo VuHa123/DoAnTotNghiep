{
 "cells": [
  {
   "cell_type": "code",
   "execution_count": null,
   "id": "86444fce",
   "metadata": {},
   "outputs": [],
   "source": [
    "import json\n",
    "import random\n",
    "\n",
    "LABELS = [\"Normal\", \"Anxiety\", \"Depression\"]\n",
    "\n",
    "def convert(input_path, output_path):\n",
    "    with open(input_path, 'r', encoding='utf-8') as f:\n",
    "        data = json.load(f)[:1000]\n",
    "\n",
    "    result = []\n",
    "    for item in data:\n",
    "        label = random.choice(LABELS)\n",
    "        result.append({\n",
    "            \"messages\": [\n",
    "                {\"role\": \"system\", \"content\": \"Bạn là chuyên gia tâm lý.\"},\n",
    "                {\"role\": \"user\", \"content\": f\"[Label: {label}]\\n{item['messages'][0]['content']}\"},\n",
    "                {\"role\": \"assistant\", \"content\": item['messages'][1]['content']}\n",
    "            ]\n",
    "        })\n",
    "\n",
    "    with open(output_path, 'w', encoding='utf-8') as f:\n",
    "        json.dump(result, f, ensure_ascii=False, indent=2)\n",
    "\n",
    "convert(\"data/conversations.json\", \"data/demo_1000.json\")"
   ]
  }
 ],
 "metadata": {
  "language_info": {
   "name": "python"
  }
 },
 "nbformat": 4,
 "nbformat_minor": 5
}
