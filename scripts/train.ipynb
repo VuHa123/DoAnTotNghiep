{
 "cells": [
  {
   "attachments": {
    "image.png": {
     "image/png": "[encoded data removed]"
    }
   },
   "cell_type": "markdown",
   "id": "616dcccb",
   "metadata": {},
   "source": [
    "![image.png](attachment:image.png)"
   ]
  },
  {
   "cell_type": "markdown",
   "id": "03e6f270",
   "metadata": {},
   "source": [
    "## Chuyển dữ liệu sang Prompt"
   ]
  },
  {
   "cell_type": "code",
   "execution_count": null,
   "id": "b2d4c829",
   "metadata": {},
   "outputs": [],
   "source": [
    "import json, os\n",
    "from glob import glob\n",
    "from transformers import AutoModelForCausalLM, AutoTokenizer\n",
    "import torch\n",
    "from datasets import load_dataset, concatenate_datasets\n",
    "from transformers import AutoModelForCausalLM, AutoTokenizer, TrainingArguments\n",
    "from peft import prepare_model_for_kbit_training, LoraConfig, get_peft_model\n",
    "from trl import SFTTrainer\n"
   ]
  },
  {
   "cell_type": "code",
   "execution_count": null,
   "id": "197cd794",
   "metadata": {},
   "outputs": [],
   "source": [
    "DATA_DIR = \"/content/drive/MyDrive/chatbot/data\""
   ]
  },
  {
   "cell_type": "code",
   "execution_count": null,
   "id": "5beba8b2",
   "metadata": {},
   "outputs": [],
   "source": [
    "def format_prompt_cot_step(user_input: str) -> str:\n",
    "    return (\n",
    "        f\"User: {user_input}\\n\\n\"\n",
    "        \"Assistant: Trước khi trả lời, tôi muốn dành một chút thời gian để lắng nghe và hiểu rõ tâm trạng của bạn.\\n\"\n",
    "        \"Hãy để tôi phân tích tình huống này với sự thấu cảm...\\n\"\n",
    "        \"Phân tích:\\n\"\n",
    "        \"Bước 1: Nhận diện cảm xúc chính.\\n\"\n",
    "        \"Bước 2: Tìm nguyên nhân có thể gây ra cảm xúc đó.\\n\"\n",
    "        \"Bước 3: Đề xuất phản hồi phù hợp.\\n\\n\"\n",
    "        \"Phản hồi:\"\n",
    "    )\n"
   ]
  },
  {
   "cell_type": "code",
   "execution_count": null,
   "id": "4398fbe4",
   "metadata": {},
   "outputs": [],
   "source": [
    "# Thư mục chứa JSON messages gốc\n",
    "INPUT_DIR = os.path.join(DATA_DIR, \"parts\")      # ví dụ: .../parts/part1.json, part2.json...\n",
    "# Thư mục lưu JSON CoT\n",
    "OUTPUT_DIR = os.path.join(DATA_DIR, \"data_cot\")\n",
    "os.makedirs(OUTPUT_DIR, exist_ok=True)\n",
    "\n",
    "for path in glob(f\"{INPUT_DIR}/part*.json\"):\n",
    "    with open(path, \"r\", encoding=\"utf-8\") as f:\n",
    "        data = json.load(f)\n",
    "    cot_data = []\n",
    "    for conv in data:\n",
    "        user_q = conv[0][\"content\"]\n",
    "        bot_a  = conv[1][\"content\"]\n",
    "        cot_data.append({\n",
    "            \"prompt\": format_prompt_cot_step(user_q),\n",
    "            \"response\": bot_a\n",
    "        })\n",
    "    out_path = os.path.join(OUTPUT_DIR, os.path.basename(path))\n",
    "    with open(out_path, \"w\", encoding=\"utf-8\") as f:\n",
    "        json.dump(cot_data, f, ensure_ascii=False, indent=2)\n",
    "    print(f\"Converted → {out_path} ({len(cot_data)} examples)\")"
   ]
  },
  {
   "cell_type": "markdown",
   "id": "ae431698",
   "metadata": {},
   "source": [
    "## ⚙️ 2) FINE‑TUNING với QLoRA\n"
   ]
  },
  {
   "cell_type": "code",
   "execution_count": null,
   "id": "ad4204f6",
   "metadata": {},
   "outputs": [],
   "source": [
    "# 4.1) Thiết lập model & tokenizer\n",
    "MODEL_ID = \"meta-llama/Meta-Llama-3-1B\"\n",
    "tokenizer = AutoTokenizer.from_pretrained(MODEL_ID, use_fast=True)\n",
    "tokenizer.pad_token = tokenizer.eos_token\n",
    "\n",
    "model = AutoModelForCausalLM.from_pretrained(\n",
    "    MODEL_ID,\n",
    "    load_in_4bit=True,\n",
    "    device_map=\"auto\",\n",
    "    torch_dtype=torch.float16\n",
    ")\n",
    "model = prepare_model_for_kbit_training(model)"
   ]
  },
  {
   "cell_type": "code",
   "execution_count": null,
   "id": "79f273bb",
   "metadata": {},
   "outputs": [],
   "source": [
    "# 4.2) Cấu hình LoRA\n",
    "lora_config = LoraConfig(\n",
    "    r=16, lora_alpha=32,\n",
    "    target_modules=[\"q_proj\", \"v_proj\"],\n",
    "    lora_dropout=0.05,\n",
    "    bias=\"none\", task_type=\"CAUSAL_LM\"\n",
    ")\n",
    "model = get_peft_model(model, lora_config)\n"
   ]
  },
  {
   "cell_type": "code",
   "execution_count": null,
   "id": "6fe3a831",
   "metadata": {},
   "outputs": [],
   "source": [
    "# 4.3) Load & kết hợp dataset\n",
    "cot_files = glob.glob(f\"{OUTPUT_DIR}/part*.json\")\n",
    "datasets = [load_dataset(\"json\", data_files=f, split=\"train\") for f in cot_files]\n",
    "dataset = concatenate_datasets(datasets)\n"
   ]
  },
  {
   "cell_type": "code",
   "execution_count": null,
   "id": "8ed353e9",
   "metadata": {},
   "outputs": [],
   "source": [
    "# 4.4) Tokenize & chuẩn bị cho SFTTrainer\n",
    "def preprocess(examples):\n",
    "    prompts = examples[\"prompt\"]\n",
    "    responses = examples[\"response\"]\n",
    "    inputs = [p + \" \" + r + tokenizer.eos_token for p, r in zip(prompts, responses)]\n",
    "    tokens = tokenizer(inputs, truncation=True, max_length=512)\n",
    "    tokens[\"labels\"] = tokens[\"input_ids\"].copy()\n",
    "    return tokens\n",
    "\n",
    "dataset = dataset.map(preprocess, batched=True, remove_columns=[\"prompt\", \"response\"])\n"
   ]
  },
  {
   "cell_type": "code",
   "execution_count": null,
   "id": "65e0617a",
   "metadata": {},
   "outputs": [],
   "source": [
    "# 4.5) TrainingArguments\n",
    "training_args = TrainingArguments(\n",
    "    output_dir=\"checkpoints\",\n",
    "    per_device_train_batch_size=4,\n",
    "    gradient_accumulation_steps=4,\n",
    "    num_train_epochs=3,\n",
    "    learning_rate=2e-4,\n",
    "    logging_steps=20,\n",
    "    save_strategy=\"epoch\",\n",
    "    bf16=True,\n",
    ")"
   ]
  },
  {
   "cell_type": "code",
   "execution_count": null,
   "id": "46d1e9de",
   "metadata": {},
   "outputs": [],
   "source": [
    "# 4.6) Khởi tạo SFTTrainer & train\n",
    "trainer = SFTTrainer(\n",
    "    model=model,\n",
    "    train_dataset=dataset,\n",
    "    peft_config=lora_config,\n",
    "    args=training_args,\n",
    "    tokenizer=tokenizer\n",
    ")"
   ]
  },
  {
   "cell_type": "markdown",
   "id": "0377dd08",
   "metadata": {},
   "source": [
    "## 3) INFERENCE theo CoT\n"
   ]
  },
  {
   "cell_type": "code",
   "execution_count": null,
   "id": "1c88fbc5",
   "metadata": {},
   "outputs": [],
   "source": [
    "MODEL_ID = \"meta-llama/Meta-Llama-3-1B\"\n",
    "CHECKPOINT = \"checkpoints/final\""
   ]
  },
  {
   "cell_type": "code",
   "execution_count": null,
   "id": "40b4c9e9",
   "metadata": {},
   "outputs": [],
   "source": [
    "# 5.1) Load model + tokenizer\n",
    "model = AutoModelForCausalLM.from_pretrained(\n",
    "    \"checkpoints/final\",\n",
    "    device_map=\"auto\",\n",
    "    torch_dtype=torch.float16\n",
    ")"
   ]
  },
  {
   "cell_type": "code",
   "execution_count": null,
   "id": "27f91234",
   "metadata": {},
   "outputs": [],
   "source": [
    "def format_prompt_cot_step(user_input: str) -> str:\n",
    "    return (\n",
    "        f\"User: {user_input}\\n\\n\"\n",
    "        \"Assistant: Trước khi trả lời, tôi muốn dành một chút thời gian để lắng nghe và hiểu rõ tâm trạng của bạn.\\n\"\n",
    "        \"Hãy để tôi phân tích tình huống này với sự thấu cảm...\\n\"\n",
    "        \"Phân tích:\\n\"\n",
    "        \"Bước 1: Nhận diện cảm xúc chính.\\n\"\n",
    "        \"Bước 2: Tìm nguyên nhân có thể gây ra cảm xúc đó.\\n\"\n",
    "        \"Bước 3: Đề xuất phản hồi phù hợp.\\n\\n\"\n",
    "        \"Phản hồi:\"\n",
    "    )"
   ]
  },
  {
   "cell_type": "code",
   "execution_count": null,
   "id": "a3b3ed79",
   "metadata": {},
   "outputs": [],
   "source": [
    "# 2) Load model & tokenizer\n",
    "tokenizer = AutoTokenizer.from_pretrained(MODEL_ID, use_fast=True)\n",
    "tokenizer.pad_token = tokenizer.eos_token\n",
    "model = AutoModelForCausalLM.from_pretrained(\n",
    "    CHECKPOINT,\n",
    "    device_map=\"auto\",\n",
    "    torch_dtype=torch.float16\n",
    ")"
   ]
  },
  {
   "cell_type": "code",
   "execution_count": null,
   "id": "69904dda",
   "metadata": {},
   "outputs": [],
   "source": [
    "# 3) Sinh và parse output\n",
    "def generate_cot(user_input: str, \n",
    "                 max_new_tokens: int = 150,\n",
    "                 temperature: float = 0.7,\n",
    "                 top_p: float = 0.9):\n",
    "    prompt = format_prompt_cot_step(user_input)\n",
    "    inputs = tokenizer(prompt, return_tensors=\"pt\").to(model.device)\n",
    "    out = model.generate(\n",
    "        **inputs,\n",
    "        max_new_tokens=max_new_tokens,\n",
    "        do_sample=True,\n",
    "        top_p=top_p,\n",
    "        temperature=temperature,\n",
    "        eos_token_id=tokenizer.eos_token_id\n",
    "    )\n",
    "    text = tokenizer.decode(out[0], skip_special_tokens=True)\n",
    "    \n",
    "    # 4) Tách thought và response\n",
    "    # Giả sử output có dạng: \"... Phân tích:\\n<...>Phân hồi:<response>\"\n",
    "    thought_part = \"\"\n",
    "    response_part = \"\"\n",
    "    \n",
    "    # Tách phần \"Phân tích:\" → \"Phản hồi:\"\n",
    "    if \"Phân tích:\" in text and \"Phản hồi:\" in text:\n",
    "        before, after = text.split(\"Phân tích:\", 1)\n",
    "        thought_raw, response_raw = after.split(\"Phản hồi:\", 1)\n",
    "        thought_part = thought_raw.strip()\n",
    "        response_part = response_raw.strip()\n",
    "    else:\n",
    "        # fallback: coi toàn bộ là response\n",
    "        response_part = text.strip()\n",
    "    \n",
    "    return {\"thought\": thought_part, \"response\": response_part}\n"
   ]
  },
  {
   "cell_type": "code",
   "execution_count": null,
   "id": "85cf6cc9",
   "metadata": {},
   "outputs": [],
   "source": [
    "# Demo\n",
    "if __name__ == \"__main__\":\n",
    "    q = \"Tôi thấy áp lực công việc quá mức và không biết chia sẻ với ai.\"\n",
    "    out = generate_cot(q)\n",
    "    print(\"===== THOUGHT =====\")\n",
    "    print(out[\"thought\"])\n",
    "    print(\"\\n===== RESPONSE =====\")\n",
    "    print(out[\"response\"])"
   ]
  }
 ],
 "metadata": {
  "language_info": {
   "name": "python"
  }
 },
 "nbformat": 4,
 "nbformat_minor": 5
}
