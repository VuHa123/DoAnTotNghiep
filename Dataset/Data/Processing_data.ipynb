{
 "cells": [
  {
   "cell_type": "markdown",
   "id": "94f8bf16",
   "metadata": {},
   "source": [
    "## Thử với dữ liệu mẫu"
   ]
  },
  {
   "cell_type": "code",
   "execution_count": 2,
   "id": "b806ed4b",
   "metadata": {},
   "outputs": [],
   "source": [
    "import json\n",
    "from collections import Counter\n",
    "import re\n",
    "import matplotlib.pyplot as plt\n",
    "from wordcloud import WordCloud\n",
    "import seaborn as sns\n",
    "import pandas as pd\n",
    "import os"
   ]
  },
  {
   "cell_type": "code",
   "execution_count": 3,
   "id": "bdcc9f3a",
   "metadata": {},
   "outputs": [],
   "source": [
    "# ⚠️ Thay đường dẫn tới file của bạn\n",
    "file_path = \"../mental_health_eng_viet/mental_health_eng_viet.csv\"  # Hoặc .xlsx nếu cần\n",
    "\n",
    "# Đọc file\n",
    "df = pd.read_csv(file_path)  # hoặc pd.read_excel(file_path)\n",
    "\n",
    "# Drop dòng thiếu dữ liệu (nếu có)\n",
    "df = df.dropna(subset=[\"question\", \"answer\"])"
   ]
  },
  {
   "cell_type": "code",
   "execution_count": 5,
   "id": "10b0e186",
   "metadata": {},
   "outputs": [
    {
     "data": {
      "text/html": [
       "<div>\n",
       "<style scoped>\n",
       "    .dataframe tbody tr th:only-of-type {\n",
       "        vertical-align: middle;\n",
       "    }\n",
       "\n",
       "    .dataframe tbody tr th {\n",
       "        vertical-align: top;\n",
       "    }\n",
       "\n",
       "    .dataframe thead th {\n",
       "        text-align: right;\n",
       "    }\n",
       "</style>\n",
       "<table border=\"1\" class=\"dataframe\">\n",
       "  <thead>\n",
       "    <tr style=\"text-align: right;\">\n",
       "      <th></th>\n",
       "      <th>question</th>\n",
       "      <th>answer</th>\n",
       "    </tr>\n",
       "  </thead>\n",
       "  <tbody>\n",
       "    <tr>\n",
       "      <th>0</th>\n",
       "      <td>Tôi nghĩ nó có thể là sự kết hợp của nhiều thứ...</td>\n",
       "      <td>Cảm nhận được sức nặng của những kỳ vọng bên n...</td>\n",
       "    </tr>\n",
       "    <tr>\n",
       "      <th>1</th>\n",
       "      <td>I've been trying to, but it's been challenging...</td>\n",
       "      <td>Letting go can be incredibly difficult. It's o...</td>\n",
       "    </tr>\n",
       "    <tr>\n",
       "      <th>2</th>\n",
       "      <td>Không phải lúc này. Sự hướng dẫn của bạn ngày ...</td>\n",
       "      <td>Tôi rất vui vì có thể giúp được anh. Hãy nhớ r...</td>\n",
       "    </tr>\n",
       "    <tr>\n",
       "      <th>3</th>\n",
       "      <td>Gần đây tôi cảm thấy thực sự buồn. Thật khó để...</td>\n",
       "      <td>, tôi có thể cảm nhận được nỗi buồn của bạn. L...</td>\n",
       "    </tr>\n",
       "    <tr>\n",
       "      <th>4</th>\n",
       "      <td>Vâng, tôn giáo là một tôn giáo lớn. Tôi đã chọ...</td>\n",
       "      <td>Điều đó hẳn là vô cùng khó khăn. Việc họ không...</td>\n",
       "    </tr>\n",
       "  </tbody>\n",
       "</table>\n",
       "</div>"
      ],
      "text/plain": [
       "                                            question  \\\n",
       "0  Tôi nghĩ nó có thể là sự kết hợp của nhiều thứ...   \n",
       "1  I've been trying to, but it's been challenging...   \n",
       "2  Không phải lúc này. Sự hướng dẫn của bạn ngày ...   \n",
       "3  Gần đây tôi cảm thấy thực sự buồn. Thật khó để...   \n",
       "4  Vâng, tôn giáo là một tôn giáo lớn. Tôi đã chọ...   \n",
       "\n",
       "                                              answer  \n",
       "0  Cảm nhận được sức nặng của những kỳ vọng bên n...  \n",
       "1  Letting go can be incredibly difficult. It's o...  \n",
       "2  Tôi rất vui vì có thể giúp được anh. Hãy nhớ r...  \n",
       "3  , tôi có thể cảm nhận được nỗi buồn của bạn. L...  \n",
       "4  Điều đó hẳn là vô cùng khó khăn. Việc họ không...  "
      ]
     },
     "execution_count": 5,
     "metadata": {},
     "output_type": "execute_result"
    }
   ],
   "source": [
    "df.head(5)"
   ]
  },
  {
   "cell_type": "code",
   "execution_count": 6,
   "id": "790086c7",
   "metadata": {},
   "outputs": [],
   "source": [
    "# Chuyển từng cặp thành message format\n",
    "converted_data = []\n",
    "for _, row in df.iterrows():\n",
    "    conversation = {\n",
    "        \"messages\": [\n",
    "            {\"role\": \"user\", \"content\": str(row['question'])},\n",
    "            {\"role\": \"assistant\", \"content\": str(row['answer'])}\n",
    "        ]\n",
    "    }\n",
    "    converted_data.append(conversation)\n"
   ]
  },
  {
   "cell_type": "code",
   "execution_count": 8,
   "id": "f29d326c",
   "metadata": {},
   "outputs": [
    {
     "name": "stdout",
     "output_type": "stream",
     "text": [
      "✅ Đã chia nhỏ thành 20 file tại chatgpt_format\n"
     ]
    }
   ],
   "source": [
    "\n",
    "# Tạo thư mục output\n",
    "output_dir = \"chatgpt_format\"\n",
    "os.makedirs(output_dir, exist_ok=True)\n",
    "\n",
    "# Chia nhỏ file (50,000 hội thoại mỗi file)\n",
    "chunk_size = 50000\n",
    "for i in range(0, len(converted_data), chunk_size):\n",
    "    chunk = converted_data[i:i + chunk_size]\n",
    "    with open(f\"{output_dir}/conversations_part{i//chunk_size + 1}.json\", \"w\", encoding=\"utf-8\") as f:\n",
    "        json.dump(chunk, f, ensure_ascii=False, indent=2)\n",
    "\n",
    "print(f\"✅ Đã chia nhỏ thành {len(os.listdir(output_dir))} file tại {output_dir}\")\n"
   ]
  },
  {
   "cell_type": "code",
   "execution_count": null,
   "id": "6cc83772",
   "metadata": {},
   "outputs": [
    {
     "ename": "NameError",
     "evalue": "name 'data' is not defined",
     "output_type": "error",
     "traceback": [
      "\u001b[31m---------------------------------------------------------------------------\u001b[39m",
      "\u001b[31mNameError\u001b[39m                                 Traceback (most recent call last)",
      "\u001b[36mCell\u001b[39m\u001b[36m \u001b[39m\u001b[32mIn[7]\u001b[39m\u001b[32m, line 6\u001b[39m\n\u001b[32m      3\u001b[39m answer_lengths = []\n\u001b[32m      4\u001b[39m word_counter = Counter()\n\u001b[32m----> \u001b[39m\u001b[32m6\u001b[39m \u001b[38;5;28;01mfor\u001b[39;00m conv \u001b[38;5;129;01min\u001b[39;00m data:\n\u001b[32m      7\u001b[39m     \u001b[38;5;28;01mif\u001b[39;00m \u001b[33m\"\u001b[39m\u001b[33mmessages\u001b[39m\u001b[33m\"\u001b[39m \u001b[38;5;129;01mnot\u001b[39;00m \u001b[38;5;129;01min\u001b[39;00m conv \u001b[38;5;129;01mor\u001b[39;00m \u001b[38;5;28mlen\u001b[39m(conv[\u001b[33m\"\u001b[39m\u001b[33mmessages\u001b[39m\u001b[33m\"\u001b[39m]) < \u001b[32m2\u001b[39m:\n\u001b[32m      8\u001b[39m         \u001b[38;5;28;01mcontinue\u001b[39;00m  \u001b[38;5;66;03m# bỏ qua bản ghi không đủ cấu trúc\u001b[39;00m\n",
      "\u001b[31mNameError\u001b[39m: name 'data' is not defined"
     ]
    }
   ],
   "source": [
    "# Thống kê độ dài câu hỏi/trả lời\n",
    "question_lengths = []\n",
    "answer_lengths = []\n",
    "word_counter = Counter()\n",
    "\n",
    "for conv in df:\n",
    "    if \"messages\" not in conv or len(conv[\"messages\"]) < 2:\n",
    "        continue  # bỏ qua bản ghi không đủ cấu trúc\n",
    "\n",
    "    question = conv[\"messages\"][0][\"content\"]\n",
    "    answer = conv[\"messages\"][1][\"content\"]\n",
    "\n",
    "    question_lengths.append(len(question.split()))\n",
    "    answer_lengths.append(len(answer.split()))\n",
    "\n",
    "    word_counter.update(re.findall(r\"\\w+\", question.lower()))\n",
    "    word_counter.update(re.findall(r\"\\w+\", answer.lower()))\n"
   ]
  },
  {
   "cell_type": "code",
   "execution_count": null,
   "id": "9e150408",
   "metadata": {},
   "outputs": [],
   "source": [
    "print(f\"Độ dài trung bình câu hỏi: {sum(question_lengths)/len(question_lengths):.2f} từ\")\n",
    "print(f\"Độ dài trung bình câu trả lời: {sum(answer_lengths)/len(answer_lengths):.2f} từ\")\n",
    "print(f\"Từ vựng duy nhất: {len(word_counter)}\")"
   ]
  },
  {
   "cell_type": "code",
   "execution_count": null,
   "id": "bbc0657c",
   "metadata": {},
   "outputs": [],
   "source": [
    "# WordCloud từ vựng\n",
    "wordcloud = WordCloud(width=800, height=400, background_color='white').generate_from_frequencies(word_counter)\n",
    "plt.figure(figsize=(10, 5))\n",
    "plt.imshow(wordcloud, interpolation='bilinear')\n",
    "plt.axis('off')\n",
    "plt.title(\"WordCloud từ vựng toàn bộ hội thoại\")\n",
    "plt.show()"
   ]
  },
  {
   "cell_type": "code",
   "execution_count": null,
   "id": "e13c3ff5",
   "metadata": {},
   "outputs": [],
   "source": [
    "# Biểu đồ độ dài câu hỏi/trả lời\n",
    "sns.histplot(question_lengths, bins=30, kde=True, color='blue', label='Câu hỏi')\n",
    "sns.histplot(answer_lengths, bins=30, kde=True, color='green', label='Câu trả lời')\n",
    "plt.title(\"Phân phối độ dài câu\")\n",
    "plt.xlabel(\"Số từ\")\n",
    "plt.legend()\n",
    "plt.show()"
   ]
  }
 ],
 "metadata": {
  "kernelspec": {
   "display_name": "datn",
   "language": "python",
   "name": "python3"
  },
  "language_info": {
   "codemirror_mode": {
    "name": "ipython",
    "version": 3
   },
   "file_extension": ".py",
   "mimetype": "text/x-python",
   "name": "python",
   "nbconvert_exporter": "python",
   "pygments_lexer": "ipython3",
   "version": "3.13.2"
  }
 },
 "nbformat": 4,
 "nbformat_minor": 5
}
