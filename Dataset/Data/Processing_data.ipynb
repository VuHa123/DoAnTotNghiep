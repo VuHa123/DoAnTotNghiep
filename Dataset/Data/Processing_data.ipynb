{
 "cells": [
  {
   "cell_type": "markdown",
   "id": "94f8bf16",
   "metadata": {},
   "source": [
    "## Thử với dữ liệu mẫu"
   ]
  },
  {
   "cell_type": "code",
   "execution_count": 9,
   "id": "b806ed4b",
   "metadata": {},
   "outputs": [],
   "source": [
    "import json\n",
    "from collections import Counter\n",
    "import re\n",
    "import matplotlib.pyplot as plt\n",
    "from wordcloud import WordCloud\n",
    "import seaborn as sns\n",
    "import pandas as pd\n",
    "import os"
   ]
  },
  {
   "cell_type": "code",
   "execution_count": 6,
   "id": "bdcc9f3a",
   "metadata": {},
   "outputs": [],
   "source": [
    "# ⚠️ Thay đường dẫn tới file của bạn\n",
    "file_path = \"../mental_health_eng_viet/mental_health_eng_viet.csv\"  # Hoặc .xlsx nếu cần\n",
    "\n",
    "# Đọc file\n",
    "df = pd.read_csv(file_path)  # hoặc pd.read_excel(file_path)\n",
    "\n",
    "# Drop dòng thiếu dữ liệu (nếu có)\n",
    "df = df.dropna(subset=[\"question\", \"answer\"])"
   ]
  },
  {
   "cell_type": "code",
   "execution_count": 8,
   "id": "790086c7",
   "metadata": {},
   "outputs": [],
   "source": [
    "# Chuyển từng cặp thành message format\n",
    "conversations = []\n",
    "for _, row in df.iterrows():\n",
    "    q = str(row[\"question\"]).strip()\n",
    "    a = str(row[\"answer\"]).strip()\n",
    "    conversations.append([\n",
    "        {\"role\": \"user\", \"content\": q},\n",
    "        {\"role\": \"assistant\", \"content\": a}\n",
    "    ])\n"
   ]
  },
  {
   "cell_type": "code",
   "execution_count": 12,
   "id": "f29d326c",
   "metadata": {},
   "outputs": [
    {
     "name": "stdout",
     "output_type": "stream",
     "text": [
      "✅ Đã chia nhỏ thành 20 file tại chatgpt_format\n"
     ]
    }
   ],
   "source": [
    "\n",
    "# Tạo thư mục output\n",
    "output_dir = \"chatgpt_format\"\n",
    "os.makedirs(output_dir, exist_ok=True)\n",
    "\n",
    "# Chia nhỏ file (50,000 hội thoại mỗi file)\n",
    "chunk_size = 50000\n",
    "for i in range(0, len(conversations), chunk_size):\n",
    "    chunk = conversations[i:i + chunk_size]\n",
    "    with open(f\"{output_dir}/conversations_part{i//chunk_size + 1}.json\", \"w\", encoding=\"utf-8\") as f:\n",
    "        json.dump(chunk, f, ensure_ascii=False, indent=2)\n",
    "\n",
    "print(f\"✅ Đã chia nhỏ thành {len(os.listdir(output_dir))} file tại {output_dir}\")\n"
   ]
  },
  {
   "cell_type": "code",
   "execution_count": null,
   "id": "6cc83772",
   "metadata": {},
   "outputs": [],
   "source": [
    "# Thống kê độ dài câu hỏi/trả lời\n",
    "question_lengths = []\n",
    "answer_lengths = []\n",
    "word_counter = Counter()\n",
    "\n",
    "for conv in data:\n",
    "    if \"messages\" not in conv or len(conv[\"messages\"]) < 2:\n",
    "        continue  # bỏ qua bản ghi không đủ cấu trúc\n",
    "\n",
    "    question = conv[\"messages\"][0][\"content\"]\n",
    "    answer = conv[\"messages\"][1][\"content\"]\n",
    "\n",
    "    question_lengths.append(len(question.split()))\n",
    "    answer_lengths.append(len(answer.split()))\n",
    "\n",
    "    word_counter.update(re.findall(r\"\\w+\", question.lower()))\n",
    "    word_counter.update(re.findall(r\"\\w+\", answer.lower()))\n"
   ]
  },
  {
   "cell_type": "code",
   "execution_count": null,
   "id": "9e150408",
   "metadata": {},
   "outputs": [],
   "source": [
    "print(f\"Độ dài trung bình câu hỏi: {sum(question_lengths)/len(question_lengths):.2f} từ\")\n",
    "print(f\"Độ dài trung bình câu trả lời: {sum(answer_lengths)/len(answer_lengths):.2f} từ\")\n",
    "print(f\"Từ vựng duy nhất: {len(word_counter)}\")"
   ]
  },
  {
   "cell_type": "code",
   "execution_count": null,
   "id": "bbc0657c",
   "metadata": {},
   "outputs": [],
   "source": [
    "# WordCloud từ vựng\n",
    "wordcloud = WordCloud(width=800, height=400, background_color='white').generate_from_frequencies(word_counter)\n",
    "plt.figure(figsize=(10, 5))\n",
    "plt.imshow(wordcloud, interpolation='bilinear')\n",
    "plt.axis('off')\n",
    "plt.title(\"WordCloud từ vựng toàn bộ hội thoại\")\n",
    "plt.show()"
   ]
  },
  {
   "cell_type": "code",
   "execution_count": null,
   "id": "e13c3ff5",
   "metadata": {},
   "outputs": [],
   "source": [
    "# Biểu đồ độ dài câu hỏi/trả lời\n",
    "sns.histplot(question_lengths, bins=30, kde=True, color='blue', label='Câu hỏi')\n",
    "sns.histplot(answer_lengths, bins=30, kde=True, color='green', label='Câu trả lời')\n",
    "plt.title(\"Phân phối độ dài câu\")\n",
    "plt.xlabel(\"Số từ\")\n",
    "plt.legend()\n",
    "plt.show()"
   ]
  }
 ],
 "metadata": {
  "kernelspec": {
   "display_name": "datn",
   "language": "python",
   "name": "python3"
  },
  "language_info": {
   "codemirror_mode": {
    "name": "ipython",
    "version": 3
   },
   "file_extension": ".py",
   "mimetype": "text/x-python",
   "name": "python",
   "nbconvert_exporter": "python",
   "pygments_lexer": "ipython3",
   "version": "3.13.2"
  }
 },
 "nbformat": 4,
 "nbformat_minor": 5
}
