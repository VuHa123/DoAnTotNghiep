{
 "cells": [
  {
   "cell_type": "markdown",
   "id": "94f8bf16",
   "metadata": {},
   "source": [
    "## Thử với dữ liệu mẫu"
   ]
  },
  {
   "cell_type": "code",
   "execution_count": 1,
   "id": "b806ed4b",
   "metadata": {},
   "outputs": [],
   "source": [
    "import pandas as pd\n",
    "import json\n",
    "import os"
   ]
  },
  {
   "cell_type": "code",
   "execution_count": null,
   "id": "bdcc9f3a",
   "metadata": {},
   "outputs": [],
   "source": [
    "# ⚠️ Thay đường dẫn tới file của bạn\n",
    "file_path = \"/content/ten_file_cua_ban.csv\"  # Hoặc .xlsx nếu cần\n",
    "\n",
    "# Đọc file\n",
    "df = pd.read_csv(file_path)  # hoặc pd.read_excel(file_path)\n",
    "\n",
    "# Drop dòng thiếu dữ liệu (nếu có)\n",
    "df = df.dropna(subset=[\"question\", \"answer\"])"
   ]
  },
  {
   "cell_type": "code",
   "execution_count": null,
   "id": "790086c7",
   "metadata": {},
   "outputs": [],
   "source": [
    "# Chuyển từng cặp thành message format\n",
    "conversations = []\n",
    "for _, row in df.iterrows():\n",
    "    q = str(row[\"question\"]).strip()\n",
    "    a = str(row[\"answer\"]).strip()\n",
    "    conversations.append([\n",
    "        {\"role\": \"user\", \"content\": q},\n",
    "        {\"role\": \"assistant\", \"content\": a}\n",
    "    ])\n"
   ]
  },
  {
   "cell_type": "code",
   "execution_count": null,
   "id": "f29d326c",
   "metadata": {},
   "outputs": [],
   "source": [
    "\n",
    "# Tạo thư mục output\n",
    "output_dir = \"/content/chatgpt_format\"\n",
    "os.makedirs(output_dir, exist_ok=True)\n",
    "\n",
    "# Chia nhỏ file (50,000 hội thoại mỗi file)\n",
    "chunk_size = 50000\n",
    "for i in range(0, len(conversations), chunk_size):\n",
    "    chunk = conversations[i:i + chunk_size]\n",
    "    with open(f\"{output_dir}/conversations_part{i//chunk_size + 1}.json\", \"w\", encoding=\"utf-8\") as f:\n",
    "        json.dump(chunk, f, ensure_ascii=False, indent=2)\n",
    "\n",
    "print(f\"✅ Đã chia nhỏ thành {len(os.listdir(output_dir))} file tại {output_dir}\")\n"
   ]
  }
 ],
 "metadata": {
  "kernelspec": {
   "display_name": "datn",
   "language": "python",
   "name": "python3"
  },
  "language_info": {
   "codemirror_mode": {
    "name": "ipython",
    "version": 3
   },
   "file_extension": ".py",
   "mimetype": "text/x-python",
   "name": "python",
   "nbconvert_exporter": "python",
   "pygments_lexer": "ipython3",
   "version": "3.13.2"
  }
 },
 "nbformat": 4,
 "nbformat_minor": 5
}
